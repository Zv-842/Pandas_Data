{
 "cells": [
  {
   "cell_type": "markdown",
   "id": "f8c9aaaf",
   "metadata": {},
   "source": [
    "#GG"
   ]
  },
  {
   "cell_type": "code",
   "execution_count": 1,
   "id": "0606ec05",
   "metadata": {},
   "outputs": [],
   "source": [
    "import pandas as pd\n",
    "import numpy as np"
   ]
  },
  {
   "cell_type": "code",
   "execution_count": 2,
   "id": "0ea1884a",
   "metadata": {},
   "outputs": [
    {
     "data": {
      "text/plain": [
       "'1.2.4'"
      ]
     },
     "execution_count": 2,
     "metadata": {},
     "output_type": "execute_result"
    }
   ],
   "source": [
    "pd.__version__\n"
   ]
  },
  {
   "cell_type": "code",
   "execution_count": 7,
   "id": "7c68819c",
   "metadata": {},
   "outputs": [],
   "source": [
    "None "
   ]
  },
  {
   "cell_type": "code",
   "execution_count": 4,
   "id": "dad5c37e",
   "metadata": {},
   "outputs": [
    {
     "data": {
      "text/plain": [
       "True"
      ]
     },
     "execution_count": 4,
     "metadata": {},
     "output_type": "execute_result"
    }
   ],
   "source": [
    "True\n"
   ]
  },
  {
   "cell_type": "code",
   "execution_count": 8,
   "id": "071d20f0",
   "metadata": {},
   "outputs": [
    {
     "data": {
      "text/plain": [
       "'MahuMahuMahu'"
      ]
     },
     "execution_count": 8,
     "metadata": {},
     "output_type": "execute_result"
    }
   ],
   "source": [
    "\"Mahu\" * 3"
   ]
  },
  {
   "cell_type": "code",
   "execution_count": 9,
   "id": "5f1b2e78",
   "metadata": {},
   "outputs": [
    {
     "data": {
      "text/plain": [
       "'GHFGGG'"
      ]
     },
     "execution_count": 9,
     "metadata": {},
     "output_type": "execute_result"
    }
   ],
   "source": [
    "\"GH\" +\"FGGG\""
   ]
  },
  {
   "cell_type": "code",
   "execution_count": 10,
   "id": "42a50edd",
   "metadata": {},
   "outputs": [
    {
     "data": {
      "text/plain": [
       "3"
      ]
     },
     "execution_count": 10,
     "metadata": {},
     "output_type": "execute_result"
    }
   ],
   "source": [
    "10 // 3"
   ]
  },
  {
   "cell_type": "code",
   "execution_count": 11,
   "id": "104f632b",
   "metadata": {},
   "outputs": [
    {
     "data": {
      "text/plain": [
       "2"
      ]
     },
     "execution_count": 11,
     "metadata": {},
     "output_type": "execute_result"
    }
   ],
   "source": [
    "10 // 4"
   ]
  },
  {
   "cell_type": "code",
   "execution_count": 12,
   "id": "d0c901ae",
   "metadata": {},
   "outputs": [
    {
     "data": {
      "text/plain": [
       "True"
      ]
     },
     "execution_count": 12,
     "metadata": {},
     "output_type": "execute_result"
    }
   ],
   "source": [
    "1 == 1"
   ]
  },
  {
   "cell_type": "code",
   "execution_count": 13,
   "id": "faa992ae",
   "metadata": {},
   "outputs": [
    {
     "data": {
      "text/plain": [
       "False"
      ]
     },
     "execution_count": 13,
     "metadata": {},
     "output_type": "execute_result"
    }
   ],
   "source": [
    "1 == 3"
   ]
  },
  {
   "cell_type": "code",
   "execution_count": 14,
   "id": "8b742a21",
   "metadata": {},
   "outputs": [
    {
     "data": {
      "text/plain": [
       "False"
      ]
     },
     "execution_count": 14,
     "metadata": {},
     "output_type": "execute_result"
    }
   ],
   "source": [
    "3 == 1 "
   ]
  },
  {
   "cell_type": "markdown",
   "id": "779dfc82",
   "metadata": {},
   "source": [
    "# Variables"
   ]
  },
  {
   "cell_type": "code",
   "execution_count": 16,
   "id": "7faaa676",
   "metadata": {},
   "outputs": [],
   "source": [
    "age = 29"
   ]
  },
  {
   "cell_type": "code",
   "execution_count": 17,
   "id": "60aaa7d7",
   "metadata": {},
   "outputs": [
    {
     "data": {
      "text/plain": [
       "34"
      ]
     },
     "execution_count": 17,
     "metadata": {},
     "output_type": "execute_result"
    }
   ],
   "source": [
    "age + 5"
   ]
  },
  {
   "cell_type": "code",
   "execution_count": 21,
   "id": "339eb1c2",
   "metadata": {},
   "outputs": [],
   "source": [
    "price = '19.90'\n",
    "name_per = 'Olqa'\n",
    "is_beautiful = True"
   ]
  },
  {
   "cell_type": "code",
   "execution_count": 22,
   "id": "c979097b",
   "metadata": {},
   "outputs": [
    {
     "data": {
      "text/plain": [
       "'Olqa19.90'"
      ]
     },
     "execution_count": 22,
     "metadata": {},
     "output_type": "execute_result"
    }
   ],
   "source": [
    "name_per + price"
   ]
  },
  {
   "cell_type": "code",
   "execution_count": 25,
   "id": "f7477496",
   "metadata": {},
   "outputs": [
    {
     "data": {
      "text/plain": [
       "49"
      ]
     },
     "execution_count": 25,
     "metadata": {},
     "output_type": "execute_result"
    }
   ],
   "source": [
    "age = age + 10\n",
    "age"
   ]
  },
  {
   "cell_type": "code",
   "execution_count": 29,
   "id": "f3246d24",
   "metadata": {},
   "outputs": [
    {
     "data": {
      "text/plain": [
       "26"
      ]
     },
     "execution_count": 29,
     "metadata": {},
     "output_type": "execute_result"
    }
   ],
   "source": [
    "len(\"bhbbfdvbfvhdbvfhbvfvbdjfff\")"
   ]
  },
  {
   "cell_type": "code",
   "execution_count": 30,
   "id": "1c2103fe",
   "metadata": {},
   "outputs": [
    {
     "data": {
      "text/plain": [
       "'12122.11'"
      ]
     },
     "execution_count": 30,
     "metadata": {},
     "output_type": "execute_result"
    }
   ],
   "source": [
    "str(12122.11)"
   ]
  },
  {
   "cell_type": "code",
   "execution_count": 36,
   "id": "046187f2",
   "metadata": {},
   "outputs": [
    {
     "name": "stdout",
     "output_type": "stream",
     "text": [
      "2022-01-07 13:27:46.655975\n"
     ]
    }
   ],
   "source": [
    "import datetime\n",
    "datetime.datetime.now()\n",
    "print(datetime.datetime.now())"
   ]
  },
  {
   "cell_type": "code",
   "execution_count": null,
   "id": "1f7456aa",
   "metadata": {},
   "outputs": [],
   "source": []
  },
  {
   "cell_type": "code",
   "execution_count": 37,
   "id": "230d205e",
   "metadata": {},
   "outputs": [],
   "source": [
    "def calculate_to_farang(calcus_temp):\n",
    "    result = calcus_temp * 1.8\n",
    "    return result + 32"
   ]
  },
  {
   "cell_type": "code",
   "execution_count": 40,
   "id": "8999eb6a",
   "metadata": {},
   "outputs": [
    {
     "data": {
      "text/plain": [
       "57.2"
      ]
     },
     "execution_count": 40,
     "metadata": {},
     "output_type": "execute_result"
    }
   ],
   "source": [
    "calculate_to_farang(14)"
   ]
  },
  {
   "cell_type": "code",
   "execution_count": 41,
   "id": "ed670867",
   "metadata": {},
   "outputs": [
    {
     "data": {
      "text/plain": [
       "<function __main__.calculate_to_farang(calcus_temp)>"
      ]
     },
     "execution_count": 41,
     "metadata": {},
     "output_type": "execute_result"
    }
   ],
   "source": [
    "calculate_to_farang"
   ]
  },
  {
   "cell_type": "code",
   "execution_count": null,
   "id": "cf3b6777",
   "metadata": {},
   "outputs": [],
   "source": []
  },
  {
   "cell_type": "code",
   "execution_count": null,
   "id": "7fae1a05",
   "metadata": {},
   "outputs": [],
   "source": []
  },
  {
   "cell_type": "code",
   "execution_count": null,
   "id": "c594f456",
   "metadata": {},
   "outputs": [],
   "source": []
  },
  {
   "cell_type": "code",
   "execution_count": 42,
   "id": "39010039",
   "metadata": {},
   "outputs": [],
   "source": [
    "def age_of_person(Age):\n",
    "    Sum = Age - 0\n",
    "    return Sum * Age"
   ]
  },
  {
   "cell_type": "code",
   "execution_count": 43,
   "id": "34a495b5",
   "metadata": {},
   "outputs": [
    {
     "data": {
      "text/plain": [
       "25"
      ]
     },
     "execution_count": 43,
     "metadata": {},
     "output_type": "execute_result"
    }
   ],
   "source": [
    "age_of_person(5)"
   ]
  },
  {
   "cell_type": "code",
   "execution_count": 44,
   "id": "1b8c6dcd",
   "metadata": {},
   "outputs": [],
   "source": [
    "profession = \"developer\""
   ]
  },
  {
   "cell_type": "code",
   "execution_count": 45,
   "id": "da2b1e05",
   "metadata": {},
   "outputs": [
    {
     "data": {
      "text/plain": [
       "'developer'"
      ]
     },
     "execution_count": 45,
     "metadata": {},
     "output_type": "execute_result"
    }
   ],
   "source": [
    "profession\n"
   ]
  },
  {
   "cell_type": "code",
   "execution_count": 47,
   "id": "fc57ec21",
   "metadata": {},
   "outputs": [
    {
     "data": {
      "text/plain": [
       "'Once upon a time'"
      ]
     },
     "execution_count": 47,
     "metadata": {},
     "output_type": "execute_result"
    }
   ],
   "source": [
    "'Once upon a time'.capitalize()"
   ]
  },
  {
   "cell_type": "code",
   "execution_count": 49,
   "id": "7e45a50c",
   "metadata": {},
   "outputs": [
    {
     "data": {
      "text/plain": [
       "'Once Upon A Time'"
      ]
     },
     "execution_count": 49,
     "metadata": {},
     "output_type": "execute_result"
    }
   ],
   "source": [
    "'Once upon a time'.title()"
   ]
  },
  {
   "cell_type": "code",
   "execution_count": 50,
   "id": "5a85e82c",
   "metadata": {},
   "outputs": [
    {
     "data": {
      "text/plain": [
       "'developer'"
      ]
     },
     "execution_count": 50,
     "metadata": {},
     "output_type": "execute_result"
    }
   ],
   "source": [
    "profession.strip()"
   ]
  },
  {
   "cell_type": "code",
   "execution_count": 51,
   "id": "fd5761fe",
   "metadata": {},
   "outputs": [
    {
     "data": {
      "text/plain": [
       "'drvrloprr'"
      ]
     },
     "execution_count": 51,
     "metadata": {},
     "output_type": "execute_result"
    }
   ],
   "source": [
    "profession.replace(\"e\", \"r\")"
   ]
  },
  {
   "cell_type": "code",
   "execution_count": 52,
   "id": "ee9112d2",
   "metadata": {},
   "outputs": [
    {
     "data": {
      "text/plain": [
       "False"
      ]
     },
     "execution_count": 52,
     "metadata": {},
     "output_type": "execute_result"
    }
   ],
   "source": [
    "'Dev' in profession"
   ]
  },
  {
   "cell_type": "code",
   "execution_count": 53,
   "id": "e6dd3957",
   "metadata": {},
   "outputs": [
    {
     "data": {
      "text/plain": [
       "True"
      ]
     },
     "execution_count": 53,
     "metadata": {},
     "output_type": "execute_result"
    }
   ],
   "source": [
    "'dev' in profession"
   ]
  },
  {
   "cell_type": "markdown",
   "id": "4a9c289e",
   "metadata": {},
   "source": [
    "# Lists\n"
   ]
  },
  {
   "cell_type": "code",
   "execution_count": 54,
   "id": "644805db",
   "metadata": {},
   "outputs": [
    {
     "data": {
      "text/plain": [
       "['ljdisj', 'svhfnvs', 'ufhdvu']"
      ]
     },
     "execution_count": 54,
     "metadata": {},
     "output_type": "execute_result"
    }
   ],
   "source": [
    "['ljdisj', 'svhfnvs' , 'ufhdvu']"
   ]
  },
  {
   "cell_type": "code",
   "execution_count": 56,
   "id": "0998dbf2",
   "metadata": {},
   "outputs": [],
   "source": [
    "obr = [1 , 2, 3, 4]"
   ]
  },
  {
   "cell_type": "code",
   "execution_count": 57,
   "id": "18773353",
   "metadata": {},
   "outputs": [
    {
     "data": {
      "text/plain": [
       "4"
      ]
     },
     "execution_count": 57,
     "metadata": {},
     "output_type": "execute_result"
    }
   ],
   "source": [
    "len(obr)"
   ]
  },
  {
   "cell_type": "code",
   "execution_count": 58,
   "id": "11fc9260",
   "metadata": {},
   "outputs": [
    {
     "data": {
      "text/plain": [
       "list"
      ]
     },
     "execution_count": 58,
     "metadata": {},
     "output_type": "execute_result"
    }
   ],
   "source": [
    "type(obr)"
   ]
  },
  {
   "cell_type": "code",
   "execution_count": 59,
   "id": "2f9d0b0f",
   "metadata": {},
   "outputs": [],
   "source": [
    "obr.append(55)"
   ]
  },
  {
   "cell_type": "code",
   "execution_count": 61,
   "id": "140f5f19",
   "metadata": {},
   "outputs": [
    {
     "data": {
      "text/plain": [
       "[1, 2, 3, 4, 55]"
      ]
     },
     "execution_count": 61,
     "metadata": {},
     "output_type": "execute_result"
    }
   ],
   "source": [
    "obr"
   ]
  },
  {
   "cell_type": "code",
   "execution_count": 62,
   "id": "b5efce39",
   "metadata": {},
   "outputs": [],
   "source": [
    "planets = [\"mars\", \"earth\", \"Venus\"]"
   ]
  },
  {
   "cell_type": "code",
   "execution_count": 63,
   "id": "82b89ead",
   "metadata": {},
   "outputs": [
    {
     "data": {
      "text/plain": [
       "True"
      ]
     },
     "execution_count": 63,
     "metadata": {},
     "output_type": "execute_result"
    }
   ],
   "source": [
    "\"Venus\" in planets"
   ]
  },
  {
   "cell_type": "markdown",
   "id": "8db1b678",
   "metadata": {},
   "source": [
    "# Index Pos and Slicing intr"
   ]
  },
  {
   "cell_type": "code",
   "execution_count": 67,
   "id": "1bb3e7af",
   "metadata": {},
   "outputs": [
    {
     "data": {
      "text/plain": [
       "3"
      ]
     },
     "execution_count": 67,
     "metadata": {},
     "output_type": "execute_result"
    }
   ],
   "source": [
    "obr[2]"
   ]
  },
  {
   "cell_type": "code",
   "execution_count": 68,
   "id": "2cc5aa00",
   "metadata": {},
   "outputs": [],
   "source": [
    "tech = [\"Laptop\", \"Nout\", \"ccc\", \"HGFDs\"]"
   ]
  },
  {
   "cell_type": "code",
   "execution_count": 69,
   "id": "9fe66d09",
   "metadata": {},
   "outputs": [
    {
     "data": {
      "text/plain": [
       "'Laptop'"
      ]
     },
     "execution_count": 69,
     "metadata": {},
     "output_type": "execute_result"
    }
   ],
   "source": [
    "tech[0]"
   ]
  },
  {
   "cell_type": "code",
   "execution_count": 70,
   "id": "30eda78f",
   "metadata": {},
   "outputs": [
    {
     "data": {
      "text/plain": [
       "'ccc'"
      ]
     },
     "execution_count": 70,
     "metadata": {},
     "output_type": "execute_result"
    }
   ],
   "source": [
    "tech[-2]"
   ]
  },
  {
   "cell_type": "code",
   "execution_count": 71,
   "id": "aedd230c",
   "metadata": {},
   "outputs": [
    {
     "data": {
      "text/plain": [
       "'ccc'"
      ]
     },
     "execution_count": 71,
     "metadata": {},
     "output_type": "execute_result"
    }
   ],
   "source": [
    "tech[2]"
   ]
  },
  {
   "cell_type": "code",
   "execution_count": 72,
   "id": "7a6e6795",
   "metadata": {},
   "outputs": [
    {
     "data": {
      "text/plain": [
       "['Nout', 'ccc']"
      ]
     },
     "execution_count": 72,
     "metadata": {},
     "output_type": "execute_result"
    }
   ],
   "source": [
    "tech[1:3]"
   ]
  },
  {
   "cell_type": "code",
   "execution_count": 73,
   "id": "db0547cd",
   "metadata": {},
   "outputs": [
    {
     "data": {
      "text/plain": [
       "['Laptop', 'Nout']"
      ]
     },
     "execution_count": 73,
     "metadata": {},
     "output_type": "execute_result"
    }
   ],
   "source": [
    "tech[:2]"
   ]
  },
  {
   "cell_type": "code",
   "execution_count": 74,
   "id": "5a6b9210",
   "metadata": {},
   "outputs": [
    {
     "data": {
      "text/plain": [
       "['ccc', 'HGFDs']"
      ]
     },
     "execution_count": 74,
     "metadata": {},
     "output_type": "execute_result"
    }
   ],
   "source": [
    "tech[2:]"
   ]
  },
  {
   "cell_type": "code",
   "execution_count": null,
   "id": "41a9b8a6",
   "metadata": {},
   "outputs": [],
   "source": []
  },
  {
   "cell_type": "markdown",
   "id": "abfec6fd",
   "metadata": {},
   "source": [
    "# Dict"
   ]
  },
  {
   "cell_type": "code",
   "execution_count": 79,
   "id": "b79d9528",
   "metadata": {},
   "outputs": [],
   "source": [
    "menu = {\"Chesse\" : 5.22, \"Hum\":1.2,\"Cola\":8.11}"
   ]
  },
  {
   "cell_type": "code",
   "execution_count": 80,
   "id": "1019fb55",
   "metadata": {},
   "outputs": [
    {
     "data": {
      "text/plain": [
       "True"
      ]
     },
     "execution_count": 80,
     "metadata": {},
     "output_type": "execute_result"
    }
   ],
   "source": [
    "\"Chesse\" in menu \n"
   ]
  },
  {
   "cell_type": "code",
   "execution_count": 89,
   "id": "aa80fb0e",
   "metadata": {},
   "outputs": [
    {
     "data": {
      "text/plain": [
       "8.11"
      ]
     },
     "execution_count": 89,
     "metadata": {},
     "output_type": "execute_result"
    }
   ],
   "source": [
    "menu.pop(\"Cola\")"
   ]
  },
  {
   "cell_type": "code",
   "execution_count": 90,
   "id": "277888f4",
   "metadata": {},
   "outputs": [
    {
     "data": {
      "text/plain": [
       "{'Chesse': 5.22, 'Hum': 1.2}"
      ]
     },
     "execution_count": 90,
     "metadata": {},
     "output_type": "execute_result"
    }
   ],
   "source": [
    "menu"
   ]
  },
  {
   "cell_type": "code",
   "execution_count": null,
   "id": "afd41124",
   "metadata": {},
   "outputs": [],
   "source": []
  }
 ],
 "metadata": {
  "kernelspec": {
   "display_name": "Python 3",
   "language": "python",
   "name": "python3"
  },
  "language_info": {
   "codemirror_mode": {
    "name": "ipython",
    "version": 3
   },
   "file_extension": ".py",
   "mimetype": "text/x-python",
   "name": "python",
   "nbconvert_exporter": "python",
   "pygments_lexer": "ipython3",
   "version": "3.8.8"
  }
 },
 "nbformat": 4,
 "nbformat_minor": 5
}
